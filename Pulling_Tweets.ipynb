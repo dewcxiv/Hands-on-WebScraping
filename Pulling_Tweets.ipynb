{
  "nbformat": 4,
  "nbformat_minor": 0,
  "metadata": {
    "colab": {
      "provenance": [],
      "authorship_tag": "ABX9TyMY1lhlfqxsaaRi2F2xBTqL",
      "include_colab_link": true
    },
    "kernelspec": {
      "name": "python3",
      "display_name": "Python 3"
    },
    "language_info": {
      "name": "python"
    }
  },
  "cells": [
    {
      "cell_type": "markdown",
      "metadata": {
        "id": "view-in-github",
        "colab_type": "text"
      },
      "source": [
        "<a href=\"https://colab.research.google.com/github/dewcxiv/Hands-on-WebScraping/blob/master/Pulling_Tweets.ipynb\" target=\"_parent\"><img src=\"https://colab.research.google.com/assets/colab-badge.svg\" alt=\"Open In Colab\"/></a>"
      ]
    },
    {
      "cell_type": "code",
      "source": [
        "pip install git+https://github.com/tweepy/tweepy.git"
      ],
      "metadata": {
        "colab": {
          "base_uri": "https://localhost:8080/"
        },
        "id": "9Io4WA0m6VvQ",
        "outputId": "c8f55509-a17d-432b-a95d-130b95be63f3"
      },
      "execution_count": 1,
      "outputs": [
        {
          "output_type": "stream",
          "name": "stdout",
          "text": [
            "Collecting git+https://github.com/tweepy/tweepy.git\n",
            "  Cloning https://github.com/tweepy/tweepy.git to /tmp/pip-req-build-ux1641l_\n",
            "  Running command git clone --filter=blob:none --quiet https://github.com/tweepy/tweepy.git /tmp/pip-req-build-ux1641l_\n",
            "  Resolved https://github.com/tweepy/tweepy.git to commit f32d12dbddbd877470446657812a10a04292d0c9\n",
            "  Preparing metadata (setup.py) ... \u001b[?25l\u001b[?25hdone\n",
            "Requirement already satisfied: oauthlib<4,>=3.2.0 in /usr/local/lib/python3.10/dist-packages (from tweepy==4.14.0) (3.2.2)\n",
            "Requirement already satisfied: requests<3,>=2.27.0 in /usr/local/lib/python3.10/dist-packages (from tweepy==4.14.0) (2.31.0)\n",
            "Requirement already satisfied: requests-oauthlib<2,>=1.2.0 in /usr/local/lib/python3.10/dist-packages (from tweepy==4.14.0) (1.3.1)\n",
            "Requirement already satisfied: charset-normalizer<4,>=2 in /usr/local/lib/python3.10/dist-packages (from requests<3,>=2.27.0->tweepy==4.14.0) (3.2.0)\n",
            "Requirement already satisfied: idna<4,>=2.5 in /usr/local/lib/python3.10/dist-packages (from requests<3,>=2.27.0->tweepy==4.14.0) (3.4)\n",
            "Requirement already satisfied: urllib3<3,>=1.21.1 in /usr/local/lib/python3.10/dist-packages (from requests<3,>=2.27.0->tweepy==4.14.0) (2.0.4)\n",
            "Requirement already satisfied: certifi>=2017.4.17 in /usr/local/lib/python3.10/dist-packages (from requests<3,>=2.27.0->tweepy==4.14.0) (2023.7.22)\n",
            "Building wheels for collected packages: tweepy\n",
            "  Building wheel for tweepy (setup.py) ... \u001b[?25l\u001b[?25hdone\n",
            "  Created wheel for tweepy: filename=tweepy-4.14.0-py3-none-any.whl size=99197 sha256=7457e6519e4c5742c99857f89468ef82ab5fff65a92b2a5d5e47351712e7ff81\n",
            "  Stored in directory: /tmp/pip-ephem-wheel-cache-cy289zms/wheels/dc/75/73/ac2b7c1ac66d801a0b03c7707a2fc16e8689f792b585994c6f\n",
            "Successfully built tweepy\n",
            "Installing collected packages: tweepy\n",
            "  Attempting uninstall: tweepy\n",
            "    Found existing installation: tweepy 4.13.0\n",
            "    Uninstalling tweepy-4.13.0:\n",
            "      Successfully uninstalled tweepy-4.13.0\n",
            "Successfully installed tweepy-4.14.0\n"
          ]
        }
      ]
    },
    {
      "cell_type": "code",
      "source": [
        "import tweepy\n",
        "import pandas as pd\n",
        "\n",
        "#consumer_key = HQ2dRQlvXA77J45Z1sYuXwnZM                             #Your API/Consumer key\n",
        "#consumer_secret = 6FGWsfbnpWqqGOb8OI7e0uEGYRWscqO24LsF2HbscqO8GWj4dh #Your API/Consumer Secret Key\n",
        "#access_token = 77706971-PJXCA3rMGwS1MeGWzHnx9qYeJFAmMSdX3QwxbjYal    #Your Access token key\n",
        "#access_token_secret = sQj3tlz39f0c28ed3WC6Q4smX6OHVK2Px5VqgWQmVlgSP  #Your Access token secret key\n",
        "\n",
        "#Pass in our twitter API authentication key\n",
        "auth = tweepy.OAuth1UserHandler(\n",
        "    consumer_key, consumer_secret,\n",
        "    access_token, access_token_secret\n",
        ")\n",
        "\n",
        "#Instantiate the tweepy API\n",
        "api = tweepy.API(auth, wait_on_rate_limit=True)\n",
        "\n",
        "search_query = \"'day6' -filter:retweets AND -filter:replies AND -filter:links\"\n",
        "no_of_tweets = 100\n",
        "\n",
        "try:\n",
        "    #The number of tweets we want to retrieved from the search\n",
        "    tweets = api.search_tweets(q=search_query, lang=\"en\", count=no_of_tweets, tweet_mode = 'extended')\n",
        "\n",
        "    #Pulling Some attributes from the tweet\n",
        "    attributes_container = [[tweet.user.name, tweet.created_at, tweet.favorite_count, tweet.source, tweet.full_text] for tweet in tweets]\n",
        "\n",
        "    #Creation of column list to rename the columns in the dataframe\n",
        "    columns = [\"User\", \"Date Created\", \"Number of likes\", \"Source of Tweet\", \"Tweet\"]\n",
        "\n",
        "    #Creation of Dataframe\n",
        "    tweets_df = pd.DataFrame(attributes_container, columns=columns)\n",
        "except BaseException as e:\n",
        "    print('Status Failed On,',str(e))"
      ],
      "metadata": {
        "id": "ejImIqBm6sum"
      },
      "execution_count": null,
      "outputs": []
    },
    {
      "cell_type": "code",
      "source": [
        "pip install pandas"
      ],
      "metadata": {
        "colab": {
          "base_uri": "https://localhost:8080/"
        },
        "id": "QOhbvjE4ess8",
        "outputId": "481c10e9-ee41-43e2-d6a5-295434cf7a59"
      },
      "execution_count": 2,
      "outputs": [
        {
          "output_type": "stream",
          "name": "stdout",
          "text": [
            "Requirement already satisfied: pandas in /usr/local/lib/python3.10/dist-packages (1.5.3)\n",
            "Requirement already satisfied: python-dateutil>=2.8.1 in /usr/local/lib/python3.10/dist-packages (from pandas) (2.8.2)\n",
            "Requirement already satisfied: pytz>=2020.1 in /usr/local/lib/python3.10/dist-packages (from pandas) (2023.3.post1)\n",
            "Requirement already satisfied: numpy>=1.21.0 in /usr/local/lib/python3.10/dist-packages (from pandas) (1.23.5)\n",
            "Requirement already satisfied: six>=1.5 in /usr/local/lib/python3.10/dist-packages (from python-dateutil>=2.8.1->pandas) (1.16.0)\n"
          ]
        }
      ]
    },
    {
      "cell_type": "code",
      "source": [
        "import json\n",
        "import csv\n",
        "import tweepy\n",
        "import re\n",
        "from tweepy import OAuth1UserHandler\n",
        "import pandas as pd\n",
        "import time\n",
        "\n",
        "consumer_key = \"HQ2dRQlvXA77J45Z1sYuXwnZM\"\n",
        "consumer_secret = \"6FGWsfbnpWqqGOb8OI7e0uEGYRWscqO24LsF2HbscqO8GWj4dh\"\n",
        "access_token = \"77706971-PJXCA3rMGwS1MeGWzHnx9qYeJFAmMSdX3QwxbjYal\"\n",
        "access_token_secret = \"sQj3tlz39f0c28ed3WC6Q4smX6OHVK2Px5VqgWQmVlgSP\"\n",
        "\n",
        "auth = tweepy.OAuthHandler(consumer_key, consumer_secret)\n",
        "auth.set_access_token(access_token, access_token_secret)\n",
        "api = tweepy.API(auth,wait_on_rate_limit=True)"
      ],
      "metadata": {
        "id": "gCkN_hzDe--B"
      },
      "execution_count": 22,
      "outputs": []
    },
    {
      "cell_type": "code",
      "source": [
        "username = 'dewcxiv'\n",
        "count = 150"
      ],
      "metadata": {
        "id": "iuVTYy8bghYN"
      },
      "execution_count": 5,
      "outputs": []
    },
    {
      "cell_type": "code",
      "source": [
        "import requests\n",
        "\n",
        "client = tweepy.Client( consumer_key=consumer_key,\n",
        "                        consumer_secret=consumer_secret,\n",
        "                        access_token=access_token,\n",
        "                        access_token_secret=access_token_secret,\n",
        "                        return_type = requests.Response,\n",
        "                        wait_on_rate_limit=True)"
      ],
      "metadata": {
        "id": "ciX_2rr3goNb"
      },
      "execution_count": 8,
      "outputs": []
    },
    {
      "cell_type": "code",
      "source": [
        "#Instantiate the tweepy API\n",
        "api = tweepy.API(auth, wait_on_rate_limit=True)\n",
        "\n",
        "search_query = \"'day6' -filter:retweets AND -filter:replies AND -filter:links\"\n",
        "no_of_tweets = 100"
      ],
      "metadata": {
        "id": "N4s2Y94VjPjN"
      },
      "execution_count": 17,
      "outputs": []
    },
    {
      "cell_type": "code",
      "source": [
        "# Create variable\n",
        "file_name = 'keys.py'"
      ],
      "metadata": {
        "id": "0eSQQ4oEvjxH"
      },
      "execution_count": 38,
      "outputs": []
    },
    {
      "cell_type": "code",
      "source": [
        "%%writefile {file_name}\n",
        "\n",
        "consumer_key=\"HQ2dRQlvXA77J45Z1sYuXwnZM\"\n",
        "consumer_secret=\"6FGWsfbnpWqqGOb8OI7e0uEGYRWscqO24LsF2HbscqO8GWj4dh\"\n",
        "access_token=\"77706971-PJXCA3rMGwS1MeGWzHnx9qYeJFAmMSdX3QwxbjYal\"\n",
        "access_token_secret=\"sQj3tlz39f0c28ed3WC6Q4smX6OHVK2Px5VqgWQmVlgSP\"\n",
        "bearer_token=\"AAAAAAAAAAAAAAAAAAAAAOE0qAEAAAAA63MWlQHo7LFON3kPGFGkxspdE4w%3D2GKDcQi02sKBPtU35EcPHVqQtwXA4hno4PCst1qOiXviKB9J3b\"\n",
        "\n",
        "import requests\n",
        "\n",
        "client = tweepy.Client( bearer_token=bearer_token,\n",
        "                        consumer_key=consumer_key,\n",
        "                        consumer_secret=consumer_secret,\n",
        "                        access_token=access_token,\n",
        "                        access_token_secret=access_token_secret,\n",
        "                        return_type = requests.Response,\n",
        "                        wait_on_rate_limit=True)\n",
        "\n",
        "# Define query\n",
        "query = 'from:BarackObama -is:retweet'\n",
        "\n",
        "# get max. 100 tweets\n",
        "tweets = client.search_recent_tweets(query=query,\n",
        "                                    tweet_fields=['author_id', 'created_at'],\n",
        "                                     max_results=100)\n",
        "\n",
        "import pandas as pd\n",
        "\n",
        "# Save data as dictionary\n",
        "tweets_dict = tweets.json()\n",
        "\n",
        "# Extract \"data\" value from dictionary\n",
        "tweets_data = tweets_dict['data']\n",
        "\n",
        "# Transform to pandas Dataframe\n",
        "df = pd.json_normalize(tweets_data)"
      ],
      "metadata": {
        "colab": {
          "base_uri": "https://localhost:8080/"
        },
        "id": "rJFmYVNbvwcd",
        "outputId": "bd7b24b2-fa12-4692-9dc1-4f7eb7cab912"
      },
      "execution_count": 45,
      "outputs": [
        {
          "output_type": "stream",
          "name": "stdout",
          "text": [
            "Overwriting keys.py\n"
          ]
        }
      ]
    }
  ]
}